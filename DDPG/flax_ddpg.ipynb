{
 "cells": [
  {
   "cell_type": "code",
   "execution_count": null,
   "metadata": {
    "colab": {},
    "colab_type": "code",
    "id": "O9LQ5ko6Qjn-"
   },
   "outputs": [],
   "source": [
    "import jax\n",
    "from jax import jit, grad, vmap\n",
    "import jax.numpy as jnp\n",
    "from flax import nn, optim\n",
    "\n",
    "import gym\n",
    "from functools import partial\n",
    "import numpy as np\n",
    "\n",
    "import random\n",
    "from IPython.display import clear_output\n",
    "from collections import deque\n",
    "\n",
    "import matplotlib.pyplot as plt\n",
    "%matplotlib inline\n",
    "COLOR = 'white'\n",
    "plt.rcParams['text.color'] = COLOR\n",
    "plt.rcParams['axes.labelcolor'] = COLOR\n",
    "plt.rcParams['xtick.color'] = COLOR\n",
    "plt.rcParams['ytick.color'] = COLOR"
   ]
  },
  {
   "cell_type": "markdown",
   "metadata": {
    "colab_type": "text",
    "id": "-lj1WnAnSMgt"
   },
   "source": [
    "#Hyperparameters"
   ]
  },
  {
   "cell_type": "code",
   "execution_count": null,
   "metadata": {
    "colab": {},
    "colab_type": "code",
    "id": "VxccUZ_6SL0g"
   },
   "outputs": [],
   "source": [
    "max_episodes = 1000\n",
    "max_steps    = 300\n",
    "BATCH_SIZE   = 128\n",
    "GAMMA        = 0.99\n",
    "BUFFER_SIZE  = 1000000\n",
    "NOISE        = 0.1\n",
    "POLYAK       = 0.995\n",
    "SEED         = 1729"
   ]
  },
  {
   "cell_type": "markdown",
   "metadata": {
    "colab_type": "text",
    "id": "shscfMGVbJNx"
   },
   "source": [
    "#Plotting"
   ]
  },
  {
   "cell_type": "code",
   "execution_count": null,
   "metadata": {
    "colab": {},
    "colab_type": "code",
    "id": "gWwPFXe8bKZz"
   },
   "outputs": [],
   "source": [
    "def plot(episode, rewards):\n",
    "    clear_output(True)\n",
    "    plt.figure(figsize=(20,5))\n",
    "    plt.subplot(131)\n",
    "    plt.title(f'episode {episode}. reward: {np.mean(rewards[-10:])}')\n",
    "    plt.plot(rewards)\n",
    "    plt.show()\n",
    "    plt.savefig(fname=f\"~/eps_{episode}\")"
   ]
  },
  {
   "cell_type": "markdown",
   "metadata": {
    "colab_type": "text",
    "id": "PBN8uq3FVqYl"
   },
   "source": [
    "# Replay Buffer"
   ]
  },
  {
   "cell_type": "code",
   "execution_count": null,
   "metadata": {
    "colab": {},
    "colab_type": "code",
    "id": "8m2Cp1a1VscH"
   },
   "outputs": [],
   "source": [
    "class ReplayBuffer(object):\n",
    "    def __init__(self, capacity):\n",
    "        self.buffer = deque(maxlen=capacity)\n",
    "    \n",
    "    def push(self, state, action, reward, next_state, done):\n",
    "        state      = jnp.expand_dims(state, 0)\n",
    "        next_state = jnp.expand_dims(next_state, 0)\n",
    "            \n",
    "        self.buffer.append((state, action, reward, next_state, done))\n",
    "    \n",
    "    def sample(self, batch_size):\n",
    "        state, action, reward, next_state, done = zip(*random.sample(self.buffer, batch_size))\n",
    "        return {'state': jnp.concatenate(state), 'action':jnp.asarray(action), \n",
    "                'reward':jnp.asarray(reward), \n",
    "                'next_state':jnp.concatenate(next_state), 'done':jnp.asarray(done)}\n",
    "    \n",
    "    def __len__(self):\n",
    "        return len(self.buffer)"
   ]
  },
  {
   "cell_type": "markdown",
   "metadata": {
    "colab_type": "text",
    "id": "dPiTtVPwaUNL"
   },
   "source": [
    "#Normalize Action Space"
   ]
  },
  {
   "cell_type": "code",
   "execution_count": null,
   "metadata": {
    "colab": {},
    "colab_type": "code",
    "id": "tdj7xckuaUeI"
   },
   "outputs": [],
   "source": [
    "@jit\n",
    "def scale_action(lower_bound, upper_bound, action):\n",
    "  #(action - min(tanh))/(max(tanh) - min(tanh)) *(max_act - min_act) + min_act\n",
    "  action = lower_bound + (action + 1.0) * 0.5 * (upper_bound - lower_bound) \n",
    "  action = jnp.clip(action, lower_bound, upper_bound)\n",
    "        \n",
    "  return action"
   ]
  },
  {
   "cell_type": "markdown",
   "metadata": {
    "colab_type": "text",
    "id": "4GyfMZh-SWyW"
   },
   "source": [
    "#Network"
   ]
  },
  {
   "cell_type": "code",
   "execution_count": null,
   "metadata": {
    "colab": {},
    "colab_type": "code",
    "id": "n9Y3e-Sb5ZGC"
   },
   "outputs": [],
   "source": [
    "@jit\n",
    "def polyak_average(old, new):\n",
    "  return jax.tree_multimap(\n",
    "    lambda p_ema, p: p_ema * POLYAK + p * (1. - POLYAK), old, new)"
   ]
  },
  {
   "cell_type": "code",
   "execution_count": null,
   "metadata": {
    "colab": {},
    "colab_type": "code",
    "id": "pqNm8WdOUZJd"
   },
   "outputs": [],
   "source": [
    "class Critic(nn.Module):\n",
    "  def apply(self, s, a):\n",
    "    x = jnp.concatenate((s, a), axis=1)\n",
    "    x = nn.Dense(x, 400)\n",
    "    x = nn.relu(x)    \n",
    "    x = nn.Dense(x, 300)\n",
    "    x = nn.relu(x)\n",
    "    x = nn.Dense(x, 1)\n",
    "    return x\n",
    "\n",
    "class Actor(nn.Module):\n",
    "  def apply(self, x, action_dim):\n",
    "    x = nn.Dense(x, 400)\n",
    "    x = nn.relu(x)    \n",
    "    x = nn.Dense(x, 300)\n",
    "    x = nn.relu(x)\n",
    "    x = nn.Dense(x, action_dim)\n",
    "    x = jnp.tanh(x)\n",
    "    return x"
   ]
  },
  {
   "cell_type": "markdown",
   "metadata": {
    "colab_type": "text",
    "id": "gRhUeVtfa7t6"
   },
   "source": [
    "#Training"
   ]
  },
  {
   "cell_type": "code",
   "execution_count": null,
   "metadata": {
    "colab": {},
    "colab_type": "code",
    "id": "c92Nu9v8a5GW"
   },
   "outputs": [],
   "source": [
    "@jit\n",
    "def policy(model, key, obs, noise):\n",
    "  action = model(obs)\n",
    "  return action + jax.random.normal(key, action.shape)*noise\n",
    "\n",
    "# @jit\n",
    "def actor_step(actor_optimizer, critic, actor_target, state):\n",
    "  def actor_loss(actor, critic, state):\n",
    "    a = actor(state)\n",
    "    q = critic(state, a)\n",
    "    return jnp.mean(q)\n",
    "  \n",
    "  actor_grad = grad(actor_loss)(actor_optimizer.target, critic, state)\n",
    "  actor_optimizer = actor_optimizer.apply_gradient(actor_grad)\n",
    "  \n",
    "  actor_target = actor_target.replace(params=\n",
    "      polyak_average(actor_target.params, actor_optimizer.target.params))\n",
    "  return actor_optimizer, actor_target \n",
    "\n",
    "@vmap \n",
    "def q_loss(reward, done, q_target, q):\n",
    "  td_target = reward + GAMMA*(1. - done)*q_target\n",
    "  return (jax.lax.stop_gradient(td_target) - q)**2\n",
    "\n",
    "# @jit\n",
    "def critic_step(critic_optimizer, actor_target, critic_target, batch):\n",
    "  done = batch['done']\n",
    "  state = batch['state']\n",
    "  reward = batch['reward']\n",
    "  action = batch['action']\n",
    "  next_state = batch['next_state']\n",
    "  \n",
    "  def critic_loss(critic):  \n",
    "    q = critic(state, action)\n",
    "    q_target = critic_target(next_state, actor_target(next_state)) \n",
    "    return jnp.mean(q_loss(reward, done, q_target, q))\n",
    "\n",
    "  critic_grad = grad(critic_loss)(critic_optimizer.target)\n",
    "  critic_optimizer = critic_optimizer.apply_gradient(critic_grad)\n",
    "  \n",
    "  critic_target = critic_target.replace(params=\n",
    "      polyak_average(critic_target.params, critic_optimizer.target.params))\n",
    "\n",
    "  return critic_optimizer, critic_target\n",
    "\n",
    "\n",
    "@jit\n",
    "def train_step(actor_optimizer, critic_optimizer, actor_target, \n",
    "               critic_target, batch):\n",
    "  actor_optimizer, actor_target = actor_step(actor_optimizer, \n",
    "                                             critic_optimizer.target, \n",
    "                                             actor_target, batch['state'])\n",
    "  critic_optimizer, critic_target = critic_step(critic_optimizer, actor_target,\n",
    "                                                critic_target, batch)\n",
    "  \n",
    "  return (actor_optimizer, critic_optimizer), (actor_target, critic_target)\n",
    "   \n",
    "\n",
    "def main_loop():\n",
    "  # Build env\n",
    "  noise = NOISE\n",
    "  env = gym.make(\"Pendulum-v0\")\n",
    "  replay_buffer = ReplayBuffer(BUFFER_SIZE)\n",
    "  key = jax.random.PRNGKey(SEED)\n",
    "  lower_bound   = env.action_space.low\n",
    "  upper_bound = env.action_space.high      \n",
    "  \n",
    "  #logging\n",
    "  rewards = []\n",
    "  episode_reward = 0\n",
    "  ep_idx = 0\n",
    "\n",
    "  # Build and initialize Network.\n",
    "  action_dim = env.action_space.shape[0]\n",
    "  state = env.reset()\n",
    "\n",
    "  a_module = Actor.partial(action_dim=action_dim)\n",
    "  sample_action, initial_params = a_module.init(key, state)\n",
    "  actor = nn.Model(a_module, initial_params)\n",
    "  actor_target = nn.Model(a_module, initial_params)\n",
    "\n",
    "  _, initial_params = Critic.init(key, jnp.expand_dims(state, axis=0), \n",
    "                                  jnp.expand_dims(sample_action, axis=0))\n",
    "  critic = nn.Model(Critic, initial_params)\n",
    "  critic_target = nn.Model(Critic, initial_params)\n",
    "\n",
    "  # Build and initialize optimizer.\n",
    "  actor_optimizer = optim.Adam(1e-4).create(actor)\n",
    "  critic_optimizer = optim.Adam(1e-3).create(critic)\n",
    "\n",
    "  rng = [key]\n",
    "\n",
    "  for ep_idx in range(max_episodes):\n",
    "    state = env.reset()\n",
    "    episode_reward = 0\n",
    "    rng = jax.random.split(rng[0], max_steps)\n",
    "    \n",
    "    for step in range(max_steps):\n",
    "      action = policy(actor, rng[step], state, noise)\n",
    "      action = scale_action(lower_bound, upper_bound, action)\n",
    "      next_state, reward, done, _ = env.step(action)\n",
    "        \n",
    "      replay_buffer.push(state, action, reward, next_state, done)\n",
    "      if len(replay_buffer) > BATCH_SIZE:\n",
    "        batch = replay_buffer.sample(BATCH_SIZE)\n",
    "        (actor_optimizer, critic_optimizer), (actor_target, critic_target) = \\\n",
    "        train_step(actor_optimizer, critic_optimizer, \n",
    "                         actor_target, critic_target, batch)\n",
    "            \n",
    "      if done:\n",
    "        break\n",
    "      state = next_state\n",
    "      episode_reward += reward\n",
    "      \n",
    "    rewards.append(episode_reward)\n",
    "    if ep_idx % 100 == 0:\n",
    "      # print(actor_optimizer.target.params['0']['kernel'][:10, 0])\n",
    "      # print(actor_target.params['0']['kernel'][:10, 0], \"\\n\")\n",
    "      # print(critic_optimizer.target.params['0']['kernel'][:10, 0])\n",
    "      # print(critic_target.params['0']['kernel'][:10, 0], \"\\n\\n\")\n",
    "      # noise /= 2\n",
    "      plot(ep_idx, rewards)"
   ]
  },
  {
   "cell_type": "code",
   "execution_count": null,
   "metadata": {
    "colab": {
     "base_uri": "https://localhost:8080/",
     "height": 336
    },
    "colab_type": "code",
    "id": "nZkNMsIirBXS",
    "outputId": "c3f1d4b1-e474-429f-f72d-ae824f86854b"
   },
   "outputs": [
    {
     "data": {
      "image/png": "[encoded data removed]",
      "text/plain": [
       "<Figure size 1440x360 with 1 Axes>"
      ]
     },
     "metadata": {
      "needs_background": "dark",
      "tags": []
     },
     "output_type": "display_data"
    }
   ],
   "source": [
    "main_loop()"
   ]
  }
 ],
 "metadata": {
  "accelerator": "GPU",
  "colab": {
   "collapsed_sections": [],
   "name": "flax_ddpg",
   "provenance": []
  },
  "kernelspec": {
   "display_name": "Python 3",
   "language": "python",
   "name": "python3"
  },
  "language_info": {
   "codemirror_mode": {
    "name": "ipython",
    "version": 3
   },
   "file_extension": ".py",
   "mimetype": "text/x-python",
   "name": "python",
   "nbconvert_exporter": "python",
   "pygments_lexer": "ipython3",
   "version": "3.6.9"
  }
 },
 "nbformat": 4,
 "nbformat_minor": 4
}
